{
 "cells": [
  {
   "cell_type": "code",
   "execution_count": null,
   "metadata": {},
   "outputs": [],
   "source": [
    "import xml.etree.ElementTree as ET\n",
    "from operator import itemgetter\n",
    "\n",
    "import keras.models\n",
    "import keras.layers\n",
    "from keras.callbacks import History\n",
    "from keras.utils.vis_utils import model_to_dot\n",
    "\n",
    "import numpy as np\n",
    "import numpy.random\n",
    "import matplotlib.pyplot as plt\n",
    "from matplotlib.ticker import MaxNLocator\n",
    "from IPython.display import SVG\n",
    "\n",
    "import sananmuunnin as sm\n",
    "from one_hot import *\n",
    "\n",
    "plt.style.use('seaborn-darkgrid')"
   ]
  },
  {
   "cell_type": "code",
   "execution_count": 2,
   "metadata": {},
   "outputs": [],
   "source": [
    "KOTUS_WORD_LIST = \"./kotus/kotus-sanalista_v1.xml\"\n",
    "MODEL_PATH = \"./sm-seq2seq.h5\"\n",
    "\n",
    "HIDDEN_SIZE = 80\n",
    "BATCH_SIZE = 128\n",
    "EPOCHS = 20\n",
    "\n",
    "TRAIN_SIZE = 250000\n",
    "VAL_SIZE = 50000"
   ]
  },
  {
   "cell_type": "code",
   "execution_count": 3,
   "metadata": {},
   "outputs": [
    {
     "data": {
      "text/plain": [
       "['aakkonen', 'aakkostaa', 'aakkosto', 'aakkostus', 'aallokas']"
      ]
     },
     "execution_count": 3,
     "metadata": {},
     "output_type": "execute_result"
    }
   ],
   "source": [
    "def read_kotus_words(filename, characters, max_len):\n",
    "    def is_valid(word):\n",
    "        return (\n",
    "            all(char in characters for char in word) and\n",
    "            len(word) < max_len / 2\n",
    "        )\n",
    "\n",
    "    return [\n",
    "        s.text for s in ET.parse(filename).iterfind(\"st/s\")\n",
    "        if is_valid(s.text)\n",
    "    ]\n",
    "\n",
    "words = read_kotus_words(KOTUS_WORD_LIST, CHARACTERS, MAX_LEN)\n",
    "words[:5]"
   ]
  },
  {
   "cell_type": "code",
   "execution_count": 4,
   "metadata": {},
   "outputs": [
    {
     "name": "stdout",
     "output_type": "stream",
     "text": [
      "_________________________________________________________________\n",
      "Layer (type)                 Output Shape              Param #   \n",
      "=================================================================\n",
      "lstm_1 (LSTM)                (None, 80)                35840     \n",
      "_________________________________________________________________\n",
      "repeat_vector_1 (RepeatVecto (None, 20, 80)            0         \n",
      "_________________________________________________________________\n",
      "lstm_2 (LSTM)                (None, 20, 80)            51520     \n",
      "_________________________________________________________________\n",
      "time_distributed_1 (TimeDist (None, 20, 31)            2511      \n",
      "_________________________________________________________________\n",
      "activation_1 (Activation)    (None, 20, 31)            0         \n",
      "=================================================================\n",
      "Total params: 89,871\n",
      "Trainable params: 89,871\n",
      "Non-trainable params: 0\n",
      "_________________________________________________________________\n"
     ]
    },
    {
     "data": {
      "image/svg+xml": [
       "<svg height=\"460pt\" viewBox=\"0.00 0.00 312.00 460.00\" width=\"312pt\" xmlns=\"http://www.w3.org/2000/svg\" xmlns:xlink=\"http://www.w3.org/1999/xlink\">\n",
       "<g class=\"graph\" id=\"graph0\" transform=\"scale(1 1) rotate(0) translate(4 456)\">\n",
       "<title>G</title>\n",
       "<polygon fill=\"white\" points=\"-4,4 -4,-456 308,-456 308,4 -4,4\" stroke=\"none\"/>\n",
       "<!-- 3090877133712 -->\n",
       "<g class=\"node\" id=\"node1\"><title>3090877133712</title>\n",
       "<polygon fill=\"none\" points=\"48,-332.5 48,-378.5 256,-378.5 256,-332.5 48,-332.5\" stroke=\"black\"/>\n",
       "<text font-family=\"Times New Roman,serif\" font-size=\"14.00\" text-anchor=\"middle\" x=\"75\" y=\"-351.8\">LSTM</text>\n",
       "<polyline fill=\"none\" points=\"102,-332.5 102,-378.5 \" stroke=\"black\"/>\n",
       "<text font-family=\"Times New Roman,serif\" font-size=\"14.00\" text-anchor=\"middle\" x=\"130\" y=\"-363.3\">input:</text>\n",
       "<polyline fill=\"none\" points=\"102,-355.5 158,-355.5 \" stroke=\"black\"/>\n",
       "<text font-family=\"Times New Roman,serif\" font-size=\"14.00\" text-anchor=\"middle\" x=\"130\" y=\"-340.3\">output:</text>\n",
       "<polyline fill=\"none\" points=\"158,-332.5 158,-378.5 \" stroke=\"black\"/>\n",
       "<text font-family=\"Times New Roman,serif\" font-size=\"14.00\" text-anchor=\"middle\" x=\"207\" y=\"-363.3\">(None, 20, 31)</text>\n",
       "<polyline fill=\"none\" points=\"158,-355.5 256,-355.5 \" stroke=\"black\"/>\n",
       "<text font-family=\"Times New Roman,serif\" font-size=\"14.00\" text-anchor=\"middle\" x=\"207\" y=\"-340.3\">(None, 80)</text>\n",
       "</g>\n",
       "<!-- 3090834319400 -->\n",
       "<g class=\"node\" id=\"node2\"><title>3090834319400</title>\n",
       "<polygon fill=\"none\" points=\"28,-249.5 28,-295.5 276,-295.5 276,-249.5 28,-249.5\" stroke=\"black\"/>\n",
       "<text font-family=\"Times New Roman,serif\" font-size=\"14.00\" text-anchor=\"middle\" x=\"75\" y=\"-268.8\">RepeatVector</text>\n",
       "<polyline fill=\"none\" points=\"122,-249.5 122,-295.5 \" stroke=\"black\"/>\n",
       "<text font-family=\"Times New Roman,serif\" font-size=\"14.00\" text-anchor=\"middle\" x=\"150\" y=\"-280.3\">input:</text>\n",
       "<polyline fill=\"none\" points=\"122,-272.5 178,-272.5 \" stroke=\"black\"/>\n",
       "<text font-family=\"Times New Roman,serif\" font-size=\"14.00\" text-anchor=\"middle\" x=\"150\" y=\"-257.3\">output:</text>\n",
       "<polyline fill=\"none\" points=\"178,-249.5 178,-295.5 \" stroke=\"black\"/>\n",
       "<text font-family=\"Times New Roman,serif\" font-size=\"14.00\" text-anchor=\"middle\" x=\"227\" y=\"-280.3\">(None, 80)</text>\n",
       "<polyline fill=\"none\" points=\"178,-272.5 276,-272.5 \" stroke=\"black\"/>\n",
       "<text font-family=\"Times New Roman,serif\" font-size=\"14.00\" text-anchor=\"middle\" x=\"227\" y=\"-257.3\">(None, 20, 80)</text>\n",
       "</g>\n",
       "<!-- 3090877133712&#45;&gt;3090834319400 -->\n",
       "<g class=\"edge\" id=\"edge2\"><title>3090877133712-&gt;3090834319400</title>\n",
       "<path d=\"M152,-332.366C152,-324.152 152,-314.658 152,-305.725\" fill=\"none\" stroke=\"black\"/>\n",
       "<polygon fill=\"black\" points=\"155.5,-305.607 152,-295.607 148.5,-305.607 155.5,-305.607\" stroke=\"black\"/>\n",
       "</g>\n",
       "<!-- 3090877132928 -->\n",
       "<g class=\"node\" id=\"node3\"><title>3090877132928</title>\n",
       "<polygon fill=\"none\" points=\"48,-166.5 48,-212.5 256,-212.5 256,-166.5 48,-166.5\" stroke=\"black\"/>\n",
       "<text font-family=\"Times New Roman,serif\" font-size=\"14.00\" text-anchor=\"middle\" x=\"75\" y=\"-185.8\">LSTM</text>\n",
       "<polyline fill=\"none\" points=\"102,-166.5 102,-212.5 \" stroke=\"black\"/>\n",
       "<text font-family=\"Times New Roman,serif\" font-size=\"14.00\" text-anchor=\"middle\" x=\"130\" y=\"-197.3\">input:</text>\n",
       "<polyline fill=\"none\" points=\"102,-189.5 158,-189.5 \" stroke=\"black\"/>\n",
       "<text font-family=\"Times New Roman,serif\" font-size=\"14.00\" text-anchor=\"middle\" x=\"130\" y=\"-174.3\">output:</text>\n",
       "<polyline fill=\"none\" points=\"158,-166.5 158,-212.5 \" stroke=\"black\"/>\n",
       "<text font-family=\"Times New Roman,serif\" font-size=\"14.00\" text-anchor=\"middle\" x=\"207\" y=\"-197.3\">(None, 20, 80)</text>\n",
       "<polyline fill=\"none\" points=\"158,-189.5 256,-189.5 \" stroke=\"black\"/>\n",
       "<text font-family=\"Times New Roman,serif\" font-size=\"14.00\" text-anchor=\"middle\" x=\"207\" y=\"-174.3\">(None, 20, 80)</text>\n",
       "</g>\n",
       "<!-- 3090834319400&#45;&gt;3090877132928 -->\n",
       "<g class=\"edge\" id=\"edge3\"><title>3090834319400-&gt;3090877132928</title>\n",
       "<path d=\"M152,-249.366C152,-241.152 152,-231.658 152,-222.725\" fill=\"none\" stroke=\"black\"/>\n",
       "<polygon fill=\"black\" points=\"155.5,-222.607 152,-212.607 148.5,-222.607 155.5,-222.607\" stroke=\"black\"/>\n",
       "</g>\n",
       "<!-- 3090877058184 -->\n",
       "<g class=\"node\" id=\"node4\"><title>3090877058184</title>\n",
       "<polygon fill=\"none\" points=\"0,-83.5 0,-129.5 304,-129.5 304,-83.5 0,-83.5\" stroke=\"black\"/>\n",
       "<text font-family=\"Times New Roman,serif\" font-size=\"14.00\" text-anchor=\"middle\" x=\"75\" y=\"-102.8\">TimeDistributed(Dense)</text>\n",
       "<polyline fill=\"none\" points=\"150,-83.5 150,-129.5 \" stroke=\"black\"/>\n",
       "<text font-family=\"Times New Roman,serif\" font-size=\"14.00\" text-anchor=\"middle\" x=\"178\" y=\"-114.3\">input:</text>\n",
       "<polyline fill=\"none\" points=\"150,-106.5 206,-106.5 \" stroke=\"black\"/>\n",
       "<text font-family=\"Times New Roman,serif\" font-size=\"14.00\" text-anchor=\"middle\" x=\"178\" y=\"-91.3\">output:</text>\n",
       "<polyline fill=\"none\" points=\"206,-83.5 206,-129.5 \" stroke=\"black\"/>\n",
       "<text font-family=\"Times New Roman,serif\" font-size=\"14.00\" text-anchor=\"middle\" x=\"255\" y=\"-114.3\">(None, 20, 80)</text>\n",
       "<polyline fill=\"none\" points=\"206,-106.5 304,-106.5 \" stroke=\"black\"/>\n",
       "<text font-family=\"Times New Roman,serif\" font-size=\"14.00\" text-anchor=\"middle\" x=\"255\" y=\"-91.3\">(None, 20, 31)</text>\n",
       "</g>\n",
       "<!-- 3090877132928&#45;&gt;3090877058184 -->\n",
       "<g class=\"edge\" id=\"edge4\"><title>3090877132928-&gt;3090877058184</title>\n",
       "<path d=\"M152,-166.366C152,-158.152 152,-148.658 152,-139.725\" fill=\"none\" stroke=\"black\"/>\n",
       "<polygon fill=\"black\" points=\"155.5,-139.607 152,-129.607 148.5,-139.607 155.5,-139.607\" stroke=\"black\"/>\n",
       "</g>\n",
       "<!-- 3090877058128 -->\n",
       "<g class=\"node\" id=\"node5\"><title>3090877058128</title>\n",
       "<polygon fill=\"none\" points=\"38,-0.5 38,-46.5 266,-46.5 266,-0.5 38,-0.5\" stroke=\"black\"/>\n",
       "<text font-family=\"Times New Roman,serif\" font-size=\"14.00\" text-anchor=\"middle\" x=\"75\" y=\"-19.8\">Activation</text>\n",
       "<polyline fill=\"none\" points=\"112,-0.5 112,-46.5 \" stroke=\"black\"/>\n",
       "<text font-family=\"Times New Roman,serif\" font-size=\"14.00\" text-anchor=\"middle\" x=\"140\" y=\"-31.3\">input:</text>\n",
       "<polyline fill=\"none\" points=\"112,-23.5 168,-23.5 \" stroke=\"black\"/>\n",
       "<text font-family=\"Times New Roman,serif\" font-size=\"14.00\" text-anchor=\"middle\" x=\"140\" y=\"-8.3\">output:</text>\n",
       "<polyline fill=\"none\" points=\"168,-0.5 168,-46.5 \" stroke=\"black\"/>\n",
       "<text font-family=\"Times New Roman,serif\" font-size=\"14.00\" text-anchor=\"middle\" x=\"217\" y=\"-31.3\">(None, 20, 31)</text>\n",
       "<polyline fill=\"none\" points=\"168,-23.5 266,-23.5 \" stroke=\"black\"/>\n",
       "<text font-family=\"Times New Roman,serif\" font-size=\"14.00\" text-anchor=\"middle\" x=\"217\" y=\"-8.3\">(None, 20, 31)</text>\n",
       "</g>\n",
       "<!-- 3090877058184&#45;&gt;3090877058128 -->\n",
       "<g class=\"edge\" id=\"edge5\"><title>3090877058184-&gt;3090877058128</title>\n",
       "<path d=\"M152,-83.3664C152,-75.1516 152,-65.6579 152,-56.7252\" fill=\"none\" stroke=\"black\"/>\n",
       "<polygon fill=\"black\" points=\"155.5,-56.6068 152,-46.6068 148.5,-56.6069 155.5,-56.6068\" stroke=\"black\"/>\n",
       "</g>\n",
       "<!-- 3090877057960 -->\n",
       "<g class=\"node\" id=\"node6\"><title>3090877057960</title>\n",
       "<polygon fill=\"none\" points=\"100,-415.5 100,-451.5 204,-451.5 204,-415.5 100,-415.5\" stroke=\"black\"/>\n",
       "<text font-family=\"Times New Roman,serif\" font-size=\"14.00\" text-anchor=\"middle\" x=\"152\" y=\"-429.8\">3090877057960</text>\n",
       "</g>\n",
       "<!-- 3090877057960&#45;&gt;3090877133712 -->\n",
       "<g class=\"edge\" id=\"edge1\"><title>3090877057960-&gt;3090877133712</title>\n",
       "<path d=\"M152,-415.254C152,-407.363 152,-397.749 152,-388.602\" fill=\"none\" stroke=\"black\"/>\n",
       "<polygon fill=\"black\" points=\"155.5,-388.591 152,-378.591 148.5,-388.591 155.5,-388.591\" stroke=\"black\"/>\n",
       "</g>\n",
       "</g>\n",
       "</svg>"
      ],
      "text/plain": [
       "<IPython.core.display.SVG object>"
      ]
     },
     "execution_count": 4,
     "metadata": {},
     "output_type": "execute_result"
    }
   ],
   "source": [
    "encoder = OneHot()\n",
    "\n",
    "model = keras.models.Sequential(\n",
    "    [\n",
    "        keras.layers.LSTM(HIDDEN_SIZE, input_shape=(MAX_LEN, N_CHARACTERS)),\n",
    "        keras.layers.RepeatVector(MAX_LEN),\n",
    "        keras.layers.LSTM(HIDDEN_SIZE, return_sequences=True),\n",
    "        keras.layers.TimeDistributed(keras.layers.Dense(N_CHARACTERS)),\n",
    "        keras.layers.Activation(\"softmax\"),\n",
    "    ]\n",
    ")\n",
    "\n",
    "model.compile(\n",
    "    loss=\"categorical_crossentropy\", optimizer=\"adam\", metrics=[\"accuracy\"]\n",
    ")\n",
    "\n",
    "model.summary()\n",
    "SVG(model_to_dot(model, show_shapes=True, show_layer_names=False).create(prog=\"dot\", format=\"svg\"))"
   ]
  },
  {
   "cell_type": "code",
   "execution_count": 5,
   "metadata": {},
   "outputs": [
    {
     "data": {
      "text/plain": [
       "((250000, 20, 31), (250000, 20, 31))"
      ]
     },
     "execution_count": 5,
     "metadata": {},
     "output_type": "execute_result"
    }
   ],
   "source": [
    "def generate_data(words, encoder, size):\n",
    "\n",
    "    def _generate_data():\n",
    "        word_indices = np.random.randint(0, len(words), (size, 2))\n",
    "        for pair_indices in word_indices:\n",
    "            input_words = itemgetter(*pair_indices)(words)\n",
    "            output_words = sm.process(*input_words)\n",
    "            yield (\n",
    "                encoder.encode(\" \".join(input_words)),\n",
    "                encoder.encode(\" \".join(output_words)),\n",
    "            )\n",
    "\n",
    "    x, y = zip(*_generate_data())\n",
    "    return np.stack(x, axis=0), np.stack(y, axis=0)\n",
    "\n",
    "x_train, y_train = generate_data(words, encoder, TRAIN_SIZE)\n",
    "x_val, y_val = generate_data(words, encoder, VAL_SIZE)\n",
    "\n",
    "x_train.shape, y_train.shape"
   ]
  },
  {
   "cell_type": "code",
   "execution_count": 6,
   "metadata": {},
   "outputs": [
    {
     "name": "stdout",
     "output_type": "stream",
     "text": [
      "Train on 250000 samples, validate on 50000 samples\n",
      "Epoch 1/20\n",
      " - 185s - loss: 1.9945 - acc: 0.3861 - val_loss: 1.6592 - val_acc: 0.4680\n",
      "Epoch 2/20\n",
      " - 171s - loss: 1.4526 - acc: 0.5250 - val_loss: 1.2451 - val_acc: 0.5835\n",
      "Epoch 3/20\n",
      " - 175s - loss: 1.1362 - acc: 0.6250 - val_loss: 1.0013 - val_acc: 0.6686\n",
      "Epoch 4/20\n",
      " - 162s - loss: 0.8900 - acc: 0.7069 - val_loss: 0.7976 - val_acc: 0.7388\n",
      "Epoch 5/20\n",
      " - 167s - loss: 0.7460 - acc: 0.7572 - val_loss: 0.6777 - val_acc: 0.7809\n",
      "Epoch 6/20\n",
      " - 162s - loss: 0.5829 - acc: 0.8114 - val_loss: 0.5227 - val_acc: 0.8312\n",
      "Epoch 7/20\n",
      " - 191s - loss: 0.4705 - acc: 0.8489 - val_loss: 0.6246 - val_acc: 0.8113\n",
      "Epoch 8/20\n",
      " - 202s - loss: 0.5503 - acc: 0.8290 - val_loss: 0.3850 - val_acc: 0.8784\n",
      "Epoch 9/20\n",
      " - 164s - loss: 0.3440 - acc: 0.8919 - val_loss: 0.3230 - val_acc: 0.8993\n",
      "Epoch 10/20\n",
      " - 146s - loss: 0.2819 - acc: 0.9124 - val_loss: 0.2660 - val_acc: 0.9174\n",
      "Epoch 11/20\n",
      " - 145s - loss: 0.2759 - acc: 0.9157 - val_loss: 0.3645 - val_acc: 0.8816\n",
      "Epoch 12/20\n",
      " - 144s - loss: 0.2719 - acc: 0.9146 - val_loss: 0.2305 - val_acc: 0.9287\n",
      "Epoch 13/20\n",
      " - 143s - loss: 0.2110 - acc: 0.9355 - val_loss: 0.1924 - val_acc: 0.9408\n",
      "Epoch 14/20\n",
      " - 145s - loss: 0.2674 - acc: 0.9243 - val_loss: 0.1853 - val_acc: 0.9437\n",
      "Epoch 15/20\n",
      " - 144s - loss: 0.1606 - acc: 0.9519 - val_loss: 0.1540 - val_acc: 0.9534\n",
      "Epoch 16/20\n",
      " - 143s - loss: 0.3424 - acc: 0.9028 - val_loss: 0.1460 - val_acc: 0.9564\n",
      "Epoch 17/20\n",
      " - 142s - loss: 0.1378 - acc: 0.9591 - val_loss: 0.1847 - val_acc: 0.9438\n",
      "Epoch 18/20\n",
      " - 143s - loss: 0.1385 - acc: 0.9607 - val_loss: 0.1124 - val_acc: 0.9670\n",
      "Epoch 19/20\n",
      " - 144s - loss: 0.1271 - acc: 0.9650 - val_loss: 0.1101 - val_acc: 0.9673\n",
      "Epoch 20/20\n",
      " - 149s - loss: 0.0964 - acc: 0.9719 - val_loss: 0.1191 - val_acc: 0.9634\n"
     ]
    }
   ],
   "source": [
    "history = model.fit(\n",
    "    x_train,\n",
    "    y_train,\n",
    "    batch_size=BATCH_SIZE,\n",
    "    epochs=EPOCHS,\n",
    "    validation_data=(x_val, y_val),\n",
    "    callbacks=[History()],\n",
    "    verbose=2,\n",
    ")"
   ]
  },
  {
   "cell_type": "code",
   "execution_count": 7,
   "metadata": {},
   "outputs": [],
   "source": [
    "model.save(MODEL_PATH)"
   ]
  },
  {
   "cell_type": "code",
   "execution_count": 8,
   "metadata": {},
   "outputs": [
    {
     "data": {
      "image/png": "[encoded data removed]",
      "text/plain": [
       "<matplotlib.figure.Figure at 0x2cfa4f776d8>"
      ]
     },
     "metadata": {},
     "output_type": "display_data"
    }
   ],
   "source": [
    "fig, axes = plt.subplots(2, 1, sharex=True, figsize=(15, 10))\n",
    "\n",
    "for ax, value in zip(axes, (\"acc\", \"loss\")):\n",
    "    ax.plot(history.history[value], 'o-', ms=3, label=\"training\")\n",
    "    ax.plot(history.history[f\"val_{value}\"], 'o-', ms=3, label=\"validation\")\n",
    "    ax.set_title(value)\n",
    "    ax.legend()\n",
    "\n",
    "ax.xaxis.set_major_locator(MaxNLocator(integer=True))\n",
    "ax.set_xlabel(\"epoch\");"
   ]
  },
  {
   "cell_type": "code",
   "execution_count": 9,
   "metadata": {},
   "outputs": [],
   "source": [
    "def predict(model, encoder, words):\n",
    "    x = encoder.encode(words)[np.newaxis]\n",
    "    y = model.predict(x)[0]\n",
    "    return encoder.decode(y)"
   ]
  },
  {
   "cell_type": "code",
   "execution_count": 10,
   "metadata": {},
   "outputs": [
    {
     "data": {
      "text/plain": [
       "'haistakaa muna'"
      ]
     },
     "execution_count": 10,
     "metadata": {},
     "output_type": "execute_result"
    }
   ],
   "source": [
    "predict(model, encoder, \"muistakaa hana\")"
   ]
  }
 ],
 "metadata": {
  "kernelspec": {
   "display_name": "Python 3",
   "language": "python",
   "name": "python3"
  },
  "language_info": {
   "codemirror_mode": {
    "name": "ipython",
    "version": 3
   },
   "file_extension": ".py",
   "mimetype": "text/x-python",
   "name": "python",
   "nbconvert_exporter": "python",
   "pygments_lexer": "ipython3",
   "version": "3.6.4"
  }
 },
 "nbformat": 4,
 "nbformat_minor": 2
}
