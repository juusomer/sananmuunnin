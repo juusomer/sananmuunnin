{
 "cells": [
  {
   "cell_type": "code",
   "execution_count": null,
   "metadata": {},
   "outputs": [],
   "source": [
    "import xml.etree.ElementTree as ET\n",
    "from operator import itemgetter\n",
    "\n",
    "from keras.models import Model\n",
    "from keras.layers import Input, LSTM, Dense, Masking\n",
    "from keras.callbacks import History\n",
    "from keras.utils.vis_utils import model_to_dot\n",
    "\n",
    "import numpy as np\n",
    "import numpy.random\n",
    "import matplotlib.pyplot as plt\n",
    "from matplotlib.ticker import MaxNLocator\n",
    "from IPython.display import SVG\n",
    "\n",
    "from tqdm import tqdm\n",
    "\n",
    "import sananmuunnin as sm\n",
    "from one_hot import *\n",
    "\n",
    "plt.style.use('seaborn-darkgrid')"
   ]
  },
  {
   "cell_type": "code",
   "execution_count": 2,
   "metadata": {},
   "outputs": [],
   "source": [
    "KOTUS_WORD_LIST = \"./kotus/kotus-sanalista_v1.xml\"\n",
    "MODEL_PATH = \"sananmuunnin.h5\"\n",
    "\n",
    "HIDDEN_SIZE = 60\n",
    "BATCH_SIZE = 128\n",
    "EPOCHS = 20\n",
    "\n",
    "DATA_SIZE = 400000\n",
    "VAL_SPLIT = 0.2"
   ]
  },
  {
   "cell_type": "code",
   "execution_count": 3,
   "metadata": {},
   "outputs": [
    {
     "data": {
      "text/plain": [
       "['aakkonen',\n",
       " 'aakkosellinen',\n",
       " 'aakkosellisesti',\n",
       " 'aakkosellisuus',\n",
       " 'aakkosittain']"
      ]
     },
     "execution_count": 3,
     "metadata": {},
     "output_type": "execute_result"
    }
   ],
   "source": [
    "def read_kotus_words(filename, characters, max_length):\n",
    "    return [\n",
    "        s.text for s in ET.parse(filename).iterfind(\"st/s\")\n",
    "        if all(char in characters for char in s.text) and len(s.text) <= max_length\n",
    "    ]\n",
    "\n",
    "words = read_kotus_words(KOTUS_WORD_LIST, CHARACTERS, 15)\n",
    "words[:5]"
   ]
  },
  {
   "cell_type": "code",
   "execution_count": 4,
   "metadata": {},
   "outputs": [
    {
     "name": "stderr",
     "output_type": "stream",
     "text": [
      "100%|██████████████████████████████████████████████████████████████████████████████████████████████████████████████████████████████████████████████████████████████████████████████████████████████| 400000/400000 [01:40<00:00, 3968.07it/s]\n"
     ]
    },
    {
     "data": {
      "text/plain": [
       "((400000, 33, 32), (400000, 33, 32), (400000, 33, 32))"
      ]
     },
     "execution_count": 4,
     "metadata": {},
     "output_type": "execute_result"
    }
   ],
   "source": [
    "def generate_data(words, one_hot_encoder, size):\n",
    "    word_indices = np.random.randint(0, len(words), (size, 2))\n",
    " \n",
    "    max_len = max(len(word) for word in words) * 2 + 3\n",
    "    encoder_inputs = np.empty((DATA_SIZE, max_len, N_CHARACTERS))\n",
    "    decoder_inputs = np.empty((DATA_SIZE, max_len, N_CHARACTERS))\n",
    "    decoder_targets = np.empty((DATA_SIZE, max_len, N_CHARACTERS))\n",
    "    \n",
    "    for i, pair_indices in tqdm(enumerate(word_indices), total=size):\n",
    "        input_words = itemgetter(*pair_indices)(words)\n",
    "        output_words = sm.transform(*input_words)\n",
    "\n",
    "        encoder_input = one_hot_encoder.encode(\" \".join(input_words), max_len)\n",
    "        decoder_input = one_hot_encoder.encode(START_TOKEN + \" \".join(output_words) + END_TOKEN, max_len)\n",
    "        decoder_target = np.roll(decoder_input, -1, axis=0)\n",
    "        decoder_target[-1, :] = 0\n",
    "\n",
    "        encoder_inputs[i] = encoder_input\n",
    "        decoder_inputs[i] = decoder_input\n",
    "        decoder_targets[i] = decoder_target\n",
    "        \n",
    "    return encoder_inputs, decoder_inputs, decoder_targets\n",
    "\n",
    "one_hot_encoder = OneHot()\n",
    "encoder_input, decoder_input, decoder_target = generate_data(words, one_hot_encoder, DATA_SIZE)\n",
    "encoder_input.shape, decoder_input.shape, decoder_target.shape"
   ]
  },
  {
   "cell_type": "code",
   "execution_count": 5,
   "metadata": {},
   "outputs": [
    {
     "name": "stdout",
     "output_type": "stream",
     "text": [
      "__________________________________________________________________________________________________\n",
      "Layer (type)                    Output Shape         Param #     Connected to                     \n",
      "==================================================================================================\n",
      "encoder_input (InputLayer)      (None, None, 32)     0                                            \n",
      "__________________________________________________________________________________________________\n",
      "decoder_input (InputLayer)      (None, None, 32)     0                                            \n",
      "__________________________________________________________________________________________________\n",
      "encoder_input_mask (Masking)    (None, None, 32)     0           encoder_input[0][0]              \n",
      "__________________________________________________________________________________________________\n",
      "decoder_input_mask (Masking)    (None, None, 32)     0           decoder_input[0][0]              \n",
      "__________________________________________________________________________________________________\n",
      "encoder_lstm (LSTM)             [(None, 60), (None,  22320       encoder_input_mask[0][0]         \n",
      "__________________________________________________________________________________________________\n",
      "decoder_lstm (LSTM)             [(None, None, 60), ( 22320       decoder_input_mask[0][0]         \n",
      "                                                                 encoder_lstm[0][1]               \n",
      "                                                                 encoder_lstm[0][2]               \n",
      "__________________________________________________________________________________________________\n",
      "decoder_dense (Dense)           (None, None, 32)     1952        decoder_lstm[0][0]               \n",
      "==================================================================================================\n",
      "Total params: 46,592\n",
      "Trainable params: 46,592\n",
      "Non-trainable params: 0\n",
      "__________________________________________________________________________________________________\n"
     ]
    },
    {
     "data": {
      "image/svg+xml": [
       "<svg height=\"337pt\" viewBox=\"0.00 0.00 387.00 337.00\" width=\"387pt\" xmlns=\"http://www.w3.org/2000/svg\" xmlns:xlink=\"http://www.w3.org/1999/xlink\">\n",
       "<g class=\"graph\" id=\"graph0\" transform=\"scale(1 1) rotate(0) translate(4 333)\">\n",
       "<title>G</title>\n",
       "<polygon fill=\"white\" points=\"-4,4 -4,-333 383,-333 383,4 -4,4\" stroke=\"none\"/>\n",
       "<!-- 2349942519288 -->\n",
       "<g class=\"node\" id=\"node1\"><title>2349942519288</title>\n",
       "<polygon fill=\"none\" points=\"12,-292.5 12,-328.5 176,-328.5 176,-292.5 12,-292.5\" stroke=\"black\"/>\n",
       "<text font-family=\"Times New Roman,serif\" font-size=\"14.00\" text-anchor=\"middle\" x=\"94\" y=\"-306.8\">encoder_input: InputLayer</text>\n",
       "</g>\n",
       "<!-- 2349942518784 -->\n",
       "<g class=\"node\" id=\"node3\"><title>2349942518784</title>\n",
       "<polygon fill=\"none\" points=\"0,-219.5 0,-255.5 188,-255.5 188,-219.5 0,-219.5\" stroke=\"black\"/>\n",
       "<text font-family=\"Times New Roman,serif\" font-size=\"14.00\" text-anchor=\"middle\" x=\"94\" y=\"-233.8\">encoder_input_mask: Masking</text>\n",
       "</g>\n",
       "<!-- 2349942519288&#45;&gt;2349942518784 -->\n",
       "<g class=\"edge\" id=\"edge1\"><title>2349942519288-&gt;2349942518784</title>\n",
       "<path d=\"M94,-292.313C94,-284.289 94,-274.547 94,-265.569\" fill=\"none\" stroke=\"black\"/>\n",
       "<polygon fill=\"black\" points=\"97.5001,-265.529 94,-255.529 90.5001,-265.529 97.5001,-265.529\" stroke=\"black\"/>\n",
       "</g>\n",
       "<!-- 2349942518952 -->\n",
       "<g class=\"node\" id=\"node2\"><title>2349942518952</title>\n",
       "<polygon fill=\"none\" points=\"206.5,-219.5 206.5,-255.5 371.5,-255.5 371.5,-219.5 206.5,-219.5\" stroke=\"black\"/>\n",
       "<text font-family=\"Times New Roman,serif\" font-size=\"14.00\" text-anchor=\"middle\" x=\"289\" y=\"-233.8\">decoder_input: InputLayer</text>\n",
       "</g>\n",
       "<!-- 2349942517832 -->\n",
       "<g class=\"node\" id=\"node4\"><title>2349942517832</title>\n",
       "<polygon fill=\"none\" points=\"191,-146.5 191,-182.5 379,-182.5 379,-146.5 191,-146.5\" stroke=\"black\"/>\n",
       "<text font-family=\"Times New Roman,serif\" font-size=\"14.00\" text-anchor=\"middle\" x=\"285\" y=\"-160.8\">decoder_input_mask: Masking</text>\n",
       "</g>\n",
       "<!-- 2349942518952&#45;&gt;2349942517832 -->\n",
       "<g class=\"edge\" id=\"edge2\"><title>2349942518952-&gt;2349942517832</title>\n",
       "<path d=\"M288.032,-219.313C287.58,-211.289 287.031,-201.547 286.525,-192.569\" fill=\"none\" stroke=\"black\"/>\n",
       "<polygon fill=\"black\" points=\"290.016,-192.316 285.959,-182.529 283.027,-192.71 290.016,-192.316\" stroke=\"black\"/>\n",
       "</g>\n",
       "<!-- 2349942519456 -->\n",
       "<g class=\"node\" id=\"node5\"><title>2349942519456</title>\n",
       "<polygon fill=\"none\" points=\"28.5,-146.5 28.5,-182.5 165.5,-182.5 165.5,-146.5 28.5,-146.5\" stroke=\"black\"/>\n",
       "<text font-family=\"Times New Roman,serif\" font-size=\"14.00\" text-anchor=\"middle\" x=\"97\" y=\"-160.8\">encoder_lstm: LSTM</text>\n",
       "</g>\n",
       "<!-- 2349942518784&#45;&gt;2349942519456 -->\n",
       "<g class=\"edge\" id=\"edge3\"><title>2349942518784-&gt;2349942519456</title>\n",
       "<path d=\"M94.7262,-219.313C95.0652,-211.289 95.4769,-201.547 95.8562,-192.569\" fill=\"none\" stroke=\"black\"/>\n",
       "<polygon fill=\"black\" points=\"99.3551,-192.668 96.2805,-182.529 92.3613,-192.372 99.3551,-192.668\" stroke=\"black\"/>\n",
       "</g>\n",
       "<!-- 2349942518280 -->\n",
       "<g class=\"node\" id=\"node6\"><title>2349942518280</title>\n",
       "<polygon fill=\"none\" points=\"122.5,-73.5 122.5,-109.5 259.5,-109.5 259.5,-73.5 122.5,-73.5\" stroke=\"black\"/>\n",
       "<text font-family=\"Times New Roman,serif\" font-size=\"14.00\" text-anchor=\"middle\" x=\"191\" y=\"-87.8\">decoder_lstm: LSTM</text>\n",
       "</g>\n",
       "<!-- 2349942517832&#45;&gt;2349942518280 -->\n",
       "<g class=\"edge\" id=\"edge4\"><title>2349942517832-&gt;2349942518280</title>\n",
       "<path d=\"M262.245,-146.313C250.122,-137.156 235.034,-125.76 221.869,-115.816\" fill=\"none\" stroke=\"black\"/>\n",
       "<polygon fill=\"black\" points=\"223.634,-112.763 213.545,-109.529 219.415,-118.349 223.634,-112.763\" stroke=\"black\"/>\n",
       "</g>\n",
       "<!-- 2349942519456&#45;&gt;2349942518280 -->\n",
       "<g class=\"edge\" id=\"edge5\"><title>2349942519456-&gt;2349942518280</title>\n",
       "<path d=\"M119.755,-146.313C131.878,-137.156 146.966,-125.76 160.131,-115.816\" fill=\"none\" stroke=\"black\"/>\n",
       "<polygon fill=\"black\" points=\"162.585,-118.349 168.455,-109.529 158.366,-112.763 162.585,-118.349\" stroke=\"black\"/>\n",
       "</g>\n",
       "<!-- 2349942518112 -->\n",
       "<g class=\"node\" id=\"node7\"><title>2349942518112</title>\n",
       "<polygon fill=\"none\" points=\"119.5,-0.5 119.5,-36.5 262.5,-36.5 262.5,-0.5 119.5,-0.5\" stroke=\"black\"/>\n",
       "<text font-family=\"Times New Roman,serif\" font-size=\"14.00\" text-anchor=\"middle\" x=\"191\" y=\"-14.8\">decoder_dense: Dense</text>\n",
       "</g>\n",
       "<!-- 2349942518280&#45;&gt;2349942518112 -->\n",
       "<g class=\"edge\" id=\"edge7\"><title>2349942518280-&gt;2349942518112</title>\n",
       "<path d=\"M191,-73.3129C191,-65.2895 191,-55.5475 191,-46.5691\" fill=\"none\" stroke=\"black\"/>\n",
       "<polygon fill=\"black\" points=\"194.5,-46.5288 191,-36.5288 187.5,-46.5289 194.5,-46.5288\" stroke=\"black\"/>\n",
       "</g>\n",
       "</g>\n",
       "</svg>"
      ],
      "text/plain": [
       "<IPython.core.display.SVG object>"
      ]
     },
     "execution_count": 5,
     "metadata": {},
     "output_type": "execute_result"
    }
   ],
   "source": [
    "encoder_inputs = Input(shape=(None, N_CHARACTERS), name=\"encoder_input\")\n",
    "encoder_lstm = LSTM(HIDDEN_SIZE, return_state=True, name=\"encoder_lstm\")\n",
    "encoder_input_mask = Masking(name=\"encoder_input_mask\")\n",
    "encoder_outputs, state_h, state_c = encoder_lstm(encoder_input_mask(encoder_inputs))\n",
    "encoder_states = [state_h, state_c]\n",
    "\n",
    "decoder_inputs = Input(shape=(None, N_CHARACTERS), name=\"decoder_input\")\n",
    "decoder_lstm = LSTM(HIDDEN_SIZE, return_sequences=True, return_state=True, name=\"decoder_lstm\")\n",
    "decoder_input_mask = Masking(name=\"decoder_input_mask\")\n",
    "decoder_outputs, _, _ = decoder_lstm(decoder_input_mask(decoder_inputs), initial_state=encoder_states)\n",
    "decoder_dense = Dense(N_CHARACTERS, activation=\"softmax\", name=\"decoder_dense\")\n",
    "decoder_outputs = decoder_dense(decoder_outputs)\n",
    "\n",
    "model = Model([encoder_inputs, decoder_inputs], decoder_outputs)\n",
    "model.compile(optimizer=\"rmsprop\", loss=\"categorical_crossentropy\", metrics=[\"accuracy\"])\n",
    "\n",
    "model.summary()\n",
    "SVG(model_to_dot(model).create(prog=\"dot\", format=\"svg\"))"
   ]
  },
  {
   "cell_type": "code",
   "execution_count": 6,
   "metadata": {},
   "outputs": [
    {
     "name": "stdout",
     "output_type": "stream",
     "text": [
      "Train on 320000 samples, validate on 80000 samples\n",
      "Epoch 1/20\n",
      " - 501s - loss: 2.0529 - acc: 0.3050 - val_loss: 1.6996 - val_acc: 0.4056\n",
      "Epoch 2/20\n",
      " - 465s - loss: 1.5183 - acc: 0.4604 - val_loss: 1.3477 - val_acc: 0.5142\n",
      "Epoch 3/20\n",
      " - 412s - loss: 1.2242 - acc: 0.5521 - val_loss: 1.0727 - val_acc: 0.6004\n",
      "Epoch 4/20\n",
      " - 463s - loss: 0.9944 - acc: 0.6271 - val_loss: 0.8820 - val_acc: 0.6638\n",
      "Epoch 5/20\n",
      " - 442s - loss: 0.8216 - acc: 0.6844 - val_loss: 0.7419 - val_acc: 0.7102\n",
      "Epoch 6/20\n",
      " - 471s - loss: 0.6879 - acc: 0.7285 - val_loss: 0.6222 - val_acc: 0.7495\n",
      "Epoch 7/20\n",
      " - 432s - loss: 0.5873 - acc: 0.7618 - val_loss: 0.5407 - val_acc: 0.7772\n",
      "Epoch 8/20\n",
      " - 490s - loss: 0.5119 - acc: 0.7869 - val_loss: 0.4682 - val_acc: 0.8030\n",
      "Epoch 9/20\n",
      " - 453s - loss: 0.4525 - acc: 0.8068 - val_loss: 0.4255 - val_acc: 0.8155\n",
      "Epoch 10/20\n",
      " - 414s - loss: 0.4047 - acc: 0.8229 - val_loss: 0.3859 - val_acc: 0.8297\n",
      "Epoch 11/20\n",
      " - 469s - loss: 0.3658 - acc: 0.8362 - val_loss: 0.3650 - val_acc: 0.8365\n",
      "Epoch 12/20\n",
      " - 529s - loss: 0.3329 - acc: 0.8474 - val_loss: 0.3240 - val_acc: 0.8496\n",
      "Epoch 13/20\n",
      " - 428s - loss: 0.3052 - acc: 0.8571 - val_loss: 0.2757 - val_acc: 0.8680\n",
      "Epoch 14/20\n",
      " - 480s - loss: 0.2816 - acc: 0.8651 - val_loss: 0.2576 - val_acc: 0.8735\n",
      "Epoch 15/20\n",
      " - 440s - loss: 0.2608 - acc: 0.8724 - val_loss: 0.2473 - val_acc: 0.8762\n",
      "Epoch 16/20\n",
      " - 420s - loss: 0.2424 - acc: 0.8786 - val_loss: 0.2554 - val_acc: 0.8728\n",
      "Epoch 17/20\n",
      " - 359s - loss: 0.2257 - acc: 0.8843 - val_loss: 0.2287 - val_acc: 0.8832\n",
      "Epoch 18/20\n",
      " - 342s - loss: 0.2109 - acc: 0.8892 - val_loss: 0.1798 - val_acc: 0.9001\n",
      "Epoch 19/20\n",
      " - 339s - loss: 0.1983 - acc: 0.8934 - val_loss: 0.1844 - val_acc: 0.8980\n",
      "Epoch 20/20\n",
      " - 333s - loss: 0.1868 - acc: 0.8973 - val_loss: 0.1735 - val_acc: 0.9015\n"
     ]
    }
   ],
   "source": [
    "history = model.fit(\n",
    "    [encoder_input, decoder_input],\n",
    "    decoder_target,\n",
    "    batch_size=BATCH_SIZE,\n",
    "    epochs=EPOCHS,\n",
    "    validation_split=VAL_SPLIT,\n",
    "    verbose=2,\n",
    "    callbacks=[History()],\n",
    ")"
   ]
  },
  {
   "cell_type": "code",
   "execution_count": 7,
   "metadata": {},
   "outputs": [
    {
     "data": {
      "image/png": "[encoded data removed]",
      "text/plain": [
       "<matplotlib.figure.Figure at 0x2232257b358>"
      ]
     },
     "metadata": {},
     "output_type": "display_data"
    }
   ],
   "source": [
    "fig, axes = plt.subplots(2, 1, sharex=True, figsize=(15, 10))\n",
    "\n",
    "for ax, value in zip(axes, (\"acc\", \"loss\")):\n",
    "    ax.plot(history.history[value], 'o-', ms=3, label=\"training\")\n",
    "    ax.plot(history.history[f\"val_{value}\"], 'o-', ms=3, label=\"validation\")\n",
    "    ax.set_title(value)\n",
    "    ax.legend()\n",
    "\n",
    "ax.xaxis.set_major_locator(MaxNLocator(integer=True))\n",
    "ax.set_xlabel(\"epoch\");"
   ]
  },
  {
   "cell_type": "code",
   "execution_count": 8,
   "metadata": {},
   "outputs": [
    {
     "name": "stderr",
     "output_type": "stream",
     "text": [
      "c:\\users\\con_jmerilai\\appdata\\local\\continuum\\anaconda3\\lib\\site-packages\\keras\\engine\\network.py:888: UserWarning: Layer decoder_lstm was passed non-serializable keyword arguments: {'initial_state': [<tf.Tensor 'encoder_lstm/while/Exit_2:0' shape=(?, 60) dtype=float32>, <tf.Tensor 'encoder_lstm/while/Exit_3:0' shape=(?, 60) dtype=float32>]}. They will not be included in the serialized model (and thus will be missing at deserialization time).\n",
      "  '. They will not be included '\n"
     ]
    }
   ],
   "source": [
    "model.save(MODEL_PATH)"
   ]
  }
 ],
 "metadata": {
  "kernelspec": {
   "display_name": "Python 3",
   "language": "python",
   "name": "python3"
  },
  "language_info": {
   "codemirror_mode": {
    "name": "ipython",
    "version": 3
   },
   "file_extension": ".py",
   "mimetype": "text/x-python",
   "name": "python",
   "nbconvert_exporter": "python",
   "pygments_lexer": "ipython3",
   "version": "3.6.4"
  }
 },
 "nbformat": 4,
 "nbformat_minor": 2
}
