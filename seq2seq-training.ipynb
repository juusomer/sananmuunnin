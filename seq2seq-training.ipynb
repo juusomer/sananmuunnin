{
 "cells": [
  {
   "cell_type": "code",
   "execution_count": null,
   "metadata": {},
   "outputs": [],
   "source": [
    "import xml.etree.ElementTree as ET\n",
    "from operator import itemgetter\n",
    "\n",
    "from keras.models import Model\n",
    "from keras.layers import Input, LSTM, Dense, Masking\n",
    "from keras.callbacks import History\n",
    "from keras.utils.vis_utils import model_to_dot\n",
    "\n",
    "import numpy as np\n",
    "import numpy.random\n",
    "import matplotlib.pyplot as plt\n",
    "from matplotlib.ticker import MaxNLocator\n",
    "from IPython.display import SVG\n",
    "\n",
    "from tqdm import tqdm\n",
    "\n",
    "import sananmuunnin as sm\n",
    "from one_hot import *\n",
    "\n",
    "plt.style.use('seaborn-darkgrid')"
   ]
  },
  {
   "cell_type": "code",
   "execution_count": 3,
   "metadata": {},
   "outputs": [],
   "source": [
    "KOTUS_WORD_LIST = \"./kotus/kotus-sanalista_v1.xml\"\n",
    "MODEL_PATH = \"sananmuunnin.h5\"\n",
    "\n",
    "HIDDEN_SIZE = 80\n",
    "BATCH_SIZE = 128\n",
    "EPOCHS = 20\n",
    "\n",
    "DATA_SIZE = 500000\n",
    "VAL_SPLIT = 0.2"
   ]
  },
  {
   "cell_type": "code",
   "execution_count": 4,
   "metadata": {},
   "outputs": [
    {
     "data": {
      "text/plain": [
       "['aakkonen',\n",
       " 'aakkosellinen',\n",
       " 'aakkosellisesti',\n",
       " 'aakkosellisuus',\n",
       " 'aakkosittain']"
      ]
     },
     "execution_count": 4,
     "metadata": {},
     "output_type": "execute_result"
    }
   ],
   "source": [
    "def read_kotus_words(filename, characters, max_length):\n",
    "    return [\n",
    "        s.text for s in ET.parse(filename).iterfind(\"st/s\")\n",
    "        if all(char in characters for char in s.text) and len(s.text) <= max_length\n",
    "    ]\n",
    "\n",
    "words = read_kotus_words(KOTUS_WORD_LIST, CHARACTERS, 15)\n",
    "words[:5]"
   ]
  },
  {
   "cell_type": "code",
   "execution_count": 6,
   "metadata": {},
   "outputs": [
    {
     "name": "stderr",
     "output_type": "stream",
     "text": [
      "100%|██████████████████████████████████████████████████████████████████████████████████████████████████████████████████████████████████████████████████████████████████████████████████████████████| 250000/250000 [00:38<00:00, 6481.12it/s]\n"
     ]
    },
    {
     "data": {
      "text/plain": [
       "((250000, 33, 32), (250000, 33, 32), (250000, 33, 32))"
      ]
     },
     "execution_count": 6,
     "metadata": {},
     "output_type": "execute_result"
    }
   ],
   "source": [
    "def generate_data(words, one_hot_encoder, size):\n",
    "    word_indices = np.random.randint(0, len(words), (size, 2))\n",
    " \n",
    "    max_len = max(len(word) for word in words) * 2 + 3\n",
    "    encoder_inputs = np.empty((DATA_SIZE, max_len, N_CHARACTERS))\n",
    "    decoder_inputs = np.empty((DATA_SIZE, max_len, N_CHARACTERS))\n",
    "    decoder_targets = np.empty((DATA_SIZE, max_len, N_CHARACTERS))\n",
    "    \n",
    "    for i, pair_indices in tqdm(enumerate(word_indices), total=size):\n",
    "        input_words = itemgetter(*pair_indices)(words)\n",
    "        output_words = sm.transform(*input_words)\n",
    "\n",
    "        encoder_input = one_hot_encoder.encode(' '.join(input_words), max_len)\n",
    "        decoder_input = one_hot_encoder.encode(START_TOKEN + ' '.join(output_words) + END_TOKEN, max_len)\n",
    "        decoder_target = np.roll(decoder_input, -1, axis=0)\n",
    "        decoder_target[-1, :] = 0\n",
    "\n",
    "        encoder_inputs[i] = encoder_input\n",
    "        decoder_inputs[i] = decoder_input\n",
    "        decoder_targets[i] = decoder_target\n",
    "        \n",
    "    return encoder_inputs, decoder_inputs, decoder_targets\n",
    "\n",
    "one_hot_encoder = OneHot()\n",
    "encoder_input, decoder_input, decoder_target = generate_data(words, one_hot_encoder, DATA_SIZE)\n",
    "encoder_input.shape, decoder_input.shape, decoder_target.shape"
   ]
  },
  {
   "cell_type": "code",
   "execution_count": 5,
   "metadata": {},
   "outputs": [
    {
     "name": "stdout",
     "output_type": "stream",
     "text": [
      "__________________________________________________________________________________________________\n",
      "Layer (type)                    Output Shape         Param #     Connected to                     \n",
      "==================================================================================================\n",
      "encoder_input (InputLayer)      (None, None, 32)     0                                            \n",
      "__________________________________________________________________________________________________\n",
      "decoder_input (InputLayer)      (None, None, 32)     0                                            \n",
      "__________________________________________________________________________________________________\n",
      "encoder_input_mask (Masking)    (None, None, 32)     0           encoder_input[0][0]              \n",
      "__________________________________________________________________________________________________\n",
      "decoder_input_mask (Masking)    (None, None, 32)     0           decoder_input[0][0]              \n",
      "__________________________________________________________________________________________________\n",
      "encoder_lstm (LSTM)             [(None, 80), (None,  36160       encoder_input_mask[0][0]         \n",
      "__________________________________________________________________________________________________\n",
      "decoder_lstm (LSTM)             [(None, None, 80), ( 36160       decoder_input_mask[0][0]         \n",
      "                                                                 encoder_lstm[0][1]               \n",
      "                                                                 encoder_lstm[0][2]               \n",
      "__________________________________________________________________________________________________\n",
      "decoder_dense (Dense)           (None, None, 32)     2592        decoder_lstm[0][0]               \n",
      "==================================================================================================\n",
      "Total params: 74,912\n",
      "Trainable params: 74,912\n",
      "Non-trainable params: 0\n",
      "__________________________________________________________________________________________________\n"
     ]
    },
    {
     "data": {
      "image/svg+xml": [
       "<svg height=\"337pt\" viewBox=\"0.00 0.00 387.00 337.00\" width=\"387pt\" xmlns=\"http://www.w3.org/2000/svg\" xmlns:xlink=\"http://www.w3.org/1999/xlink\">\n",
       "<g class=\"graph\" id=\"graph0\" transform=\"scale(1 1) rotate(0) translate(4 333)\">\n",
       "<title>G</title>\n",
       "<polygon fill=\"white\" points=\"-4,4 -4,-333 383,-333 383,4 -4,4\" stroke=\"none\"/>\n",
       "<!-- 2027652492200 -->\n",
       "<g class=\"node\" id=\"node1\"><title>2027652492200</title>\n",
       "<polygon fill=\"none\" points=\"12,-292.5 12,-328.5 176,-328.5 176,-292.5 12,-292.5\" stroke=\"black\"/>\n",
       "<text font-family=\"Times New Roman,serif\" font-size=\"14.00\" text-anchor=\"middle\" x=\"94\" y=\"-306.8\">encoder_input: InputLayer</text>\n",
       "</g>\n",
       "<!-- 2027652490968 -->\n",
       "<g class=\"node\" id=\"node3\"><title>2027652490968</title>\n",
       "<polygon fill=\"none\" points=\"0,-219.5 0,-255.5 188,-255.5 188,-219.5 0,-219.5\" stroke=\"black\"/>\n",
       "<text font-family=\"Times New Roman,serif\" font-size=\"14.00\" text-anchor=\"middle\" x=\"94\" y=\"-233.8\">encoder_input_mask: Masking</text>\n",
       "</g>\n",
       "<!-- 2027652492200&#45;&gt;2027652490968 -->\n",
       "<g class=\"edge\" id=\"edge1\"><title>2027652492200-&gt;2027652490968</title>\n",
       "<path d=\"M94,-292.313C94,-284.289 94,-274.547 94,-265.569\" fill=\"none\" stroke=\"black\"/>\n",
       "<polygon fill=\"black\" points=\"97.5001,-265.529 94,-255.529 90.5001,-265.529 97.5001,-265.529\" stroke=\"black\"/>\n",
       "</g>\n",
       "<!-- 2027652491528 -->\n",
       "<g class=\"node\" id=\"node2\"><title>2027652491528</title>\n",
       "<polygon fill=\"none\" points=\"206.5,-219.5 206.5,-255.5 371.5,-255.5 371.5,-219.5 206.5,-219.5\" stroke=\"black\"/>\n",
       "<text font-family=\"Times New Roman,serif\" font-size=\"14.00\" text-anchor=\"middle\" x=\"289\" y=\"-233.8\">decoder_input: InputLayer</text>\n",
       "</g>\n",
       "<!-- 2027652235216 -->\n",
       "<g class=\"node\" id=\"node4\"><title>2027652235216</title>\n",
       "<polygon fill=\"none\" points=\"191,-146.5 191,-182.5 379,-182.5 379,-146.5 191,-146.5\" stroke=\"black\"/>\n",
       "<text font-family=\"Times New Roman,serif\" font-size=\"14.00\" text-anchor=\"middle\" x=\"285\" y=\"-160.8\">decoder_input_mask: Masking</text>\n",
       "</g>\n",
       "<!-- 2027652491528&#45;&gt;2027652235216 -->\n",
       "<g class=\"edge\" id=\"edge2\"><title>2027652491528-&gt;2027652235216</title>\n",
       "<path d=\"M288.032,-219.313C287.58,-211.289 287.031,-201.547 286.525,-192.569\" fill=\"none\" stroke=\"black\"/>\n",
       "<polygon fill=\"black\" points=\"290.016,-192.316 285.959,-182.529 283.027,-192.71 290.016,-192.316\" stroke=\"black\"/>\n",
       "</g>\n",
       "<!-- 2027652491976 -->\n",
       "<g class=\"node\" id=\"node5\"><title>2027652491976</title>\n",
       "<polygon fill=\"none\" points=\"28.5,-146.5 28.5,-182.5 165.5,-182.5 165.5,-146.5 28.5,-146.5\" stroke=\"black\"/>\n",
       "<text font-family=\"Times New Roman,serif\" font-size=\"14.00\" text-anchor=\"middle\" x=\"97\" y=\"-160.8\">encoder_lstm: LSTM</text>\n",
       "</g>\n",
       "<!-- 2027652490968&#45;&gt;2027652491976 -->\n",
       "<g class=\"edge\" id=\"edge3\"><title>2027652490968-&gt;2027652491976</title>\n",
       "<path d=\"M94.7262,-219.313C95.0652,-211.289 95.4769,-201.547 95.8562,-192.569\" fill=\"none\" stroke=\"black\"/>\n",
       "<polygon fill=\"black\" points=\"99.3551,-192.668 96.2805,-182.529 92.3613,-192.372 99.3551,-192.668\" stroke=\"black\"/>\n",
       "</g>\n",
       "<!-- 2027652492368 -->\n",
       "<g class=\"node\" id=\"node6\"><title>2027652492368</title>\n",
       "<polygon fill=\"none\" points=\"122.5,-73.5 122.5,-109.5 259.5,-109.5 259.5,-73.5 122.5,-73.5\" stroke=\"black\"/>\n",
       "<text font-family=\"Times New Roman,serif\" font-size=\"14.00\" text-anchor=\"middle\" x=\"191\" y=\"-87.8\">decoder_lstm: LSTM</text>\n",
       "</g>\n",
       "<!-- 2027652235216&#45;&gt;2027652492368 -->\n",
       "<g class=\"edge\" id=\"edge4\"><title>2027652235216-&gt;2027652492368</title>\n",
       "<path d=\"M262.245,-146.313C250.122,-137.156 235.034,-125.76 221.869,-115.816\" fill=\"none\" stroke=\"black\"/>\n",
       "<polygon fill=\"black\" points=\"223.634,-112.763 213.545,-109.529 219.415,-118.349 223.634,-112.763\" stroke=\"black\"/>\n",
       "</g>\n",
       "<!-- 2027652491976&#45;&gt;2027652492368 -->\n",
       "<g class=\"edge\" id=\"edge5\"><title>2027652491976-&gt;2027652492368</title>\n",
       "<path d=\"M119.755,-146.313C131.878,-137.156 146.966,-125.76 160.131,-115.816\" fill=\"none\" stroke=\"black\"/>\n",
       "<polygon fill=\"black\" points=\"162.585,-118.349 168.455,-109.529 158.366,-112.763 162.585,-118.349\" stroke=\"black\"/>\n",
       "</g>\n",
       "<!-- 2027652232920 -->\n",
       "<g class=\"node\" id=\"node7\"><title>2027652232920</title>\n",
       "<polygon fill=\"none\" points=\"119.5,-0.5 119.5,-36.5 262.5,-36.5 262.5,-0.5 119.5,-0.5\" stroke=\"black\"/>\n",
       "<text font-family=\"Times New Roman,serif\" font-size=\"14.00\" text-anchor=\"middle\" x=\"191\" y=\"-14.8\">decoder_dense: Dense</text>\n",
       "</g>\n",
       "<!-- 2027652492368&#45;&gt;2027652232920 -->\n",
       "<g class=\"edge\" id=\"edge7\"><title>2027652492368-&gt;2027652232920</title>\n",
       "<path d=\"M191,-73.3129C191,-65.2895 191,-55.5475 191,-46.5691\" fill=\"none\" stroke=\"black\"/>\n",
       "<polygon fill=\"black\" points=\"194.5,-46.5288 191,-36.5288 187.5,-46.5289 194.5,-46.5288\" stroke=\"black\"/>\n",
       "</g>\n",
       "</g>\n",
       "</svg>"
      ],
      "text/plain": [
       "<IPython.core.display.SVG object>"
      ]
     },
     "execution_count": 5,
     "metadata": {},
     "output_type": "execute_result"
    }
   ],
   "source": [
    "encoder_inputs = Input(shape=(None, N_CHARACTERS), name=\"encoder_input\")\n",
    "encoder_lstm = LSTM(HIDDEN_SIZE, return_state=True, name=\"encoder_lstm\")\n",
    "encoder_input_mask = Masking(mask_value=0, name=\"encoder_input_mask\")\n",
    "encoder_outputs, state_h, state_c = encoder_lstm(encoder_input_mask(encoder_inputs))\n",
    "encoder_states = [state_h, state_c]\n",
    "\n",
    "decoder_inputs = Input(shape=(None, N_CHARACTERS), name=\"decoder_input\")\n",
    "decoder_lstm = LSTM(HIDDEN_SIZE, return_sequences=True, return_state=True, name=\"decoder_lstm\")\n",
    "decoder_input_mask = Masking(mask_value=0, name=\"decoder_input_mask\")\n",
    "decoder_outputs, _, _ = decoder_lstm(decoder_input_mask(decoder_inputs), initial_state=encoder_states)\n",
    "decoder_dense = Dense(N_CHARACTERS, activation=\"softmax\", name=\"decoder_dense\")\n",
    "decoder_outputs = decoder_dense(decoder_outputs)\n",
    "\n",
    "model = Model([encoder_inputs, decoder_inputs], decoder_outputs)\n",
    "model.compile(optimizer=\"rmsprop\", loss=\"categorical_crossentropy\", metrics=[\"accuracy\"])\n",
    "\n",
    "model.summary()\n",
    "SVG(model_to_dot(model).create(prog=\"dot\", format=\"svg\"))"
   ]
  },
  {
   "cell_type": "code",
   "execution_count": 6,
   "metadata": {},
   "outputs": [
    {
     "name": "stdout",
     "output_type": "stream",
     "text": [
      "Train on 400000 samples, validate on 100000 samples\n",
      "Epoch 1/20\n",
      " - 739s - loss: 1.9596 - acc: 0.3255 - val_loss: 1.5228 - val_acc: 0.4550\n",
      "Epoch 2/20\n",
      " - 733s - loss: 1.2930 - acc: 0.5254 - val_loss: 1.1151 - val_acc: 0.5783\n",
      "Epoch 3/20\n",
      " - 706s - loss: 0.9679 - acc: 0.6295 - val_loss: 0.8342 - val_acc: 0.6750\n",
      "Epoch 4/20\n",
      " - 647s - loss: 0.7496 - acc: 0.7053 - val_loss: 0.6731 - val_acc: 0.7319\n",
      "Epoch 5/20\n",
      " - 694s - loss: 0.5994 - acc: 0.7582 - val_loss: 0.5591 - val_acc: 0.7713\n",
      "Epoch 6/20\n",
      " - 694s - loss: 0.5021 - acc: 0.7923 - val_loss: 0.4682 - val_acc: 0.8029\n",
      "Epoch 7/20\n",
      " - 729s - loss: 0.4351 - acc: 0.8156 - val_loss: 0.4476 - val_acc: 0.8148\n",
      "Epoch 8/20\n",
      " - 708s - loss: 0.3846 - acc: 0.8329 - val_loss: 0.3834 - val_acc: 0.8325\n",
      "Epoch 9/20\n",
      " - 712s - loss: 0.3456 - acc: 0.8462 - val_loss: 0.3229 - val_acc: 0.8544\n",
      "Epoch 10/20\n",
      " - 704s - loss: 0.3151 - acc: 0.8566 - val_loss: 0.2915 - val_acc: 0.8645\n",
      "Epoch 11/20\n",
      " - 884s - loss: 0.2905 - acc: 0.8649 - val_loss: 0.2922 - val_acc: 0.8651\n",
      "Epoch 12/20\n",
      " - 762s - loss: 0.2702 - acc: 0.8718 - val_loss: 0.2481 - val_acc: 0.8806\n",
      "Epoch 13/20\n",
      " - 673s - loss: 0.2526 - acc: 0.8776 - val_loss: 0.2373 - val_acc: 0.8839\n",
      "Epoch 14/20\n",
      " - 583s - loss: 0.2377 - acc: 0.8826 - val_loss: 0.2296 - val_acc: 0.8852\n",
      "Epoch 15/20\n",
      " - 594s - loss: 0.2256 - acc: 0.8865 - val_loss: 0.2278 - val_acc: 0.8857\n",
      "Epoch 16/20\n",
      " - 608s - loss: 0.2150 - acc: 0.8900 - val_loss: 0.2009 - val_acc: 0.8961\n",
      "Epoch 17/20\n",
      " - 640s - loss: 0.2056 - acc: 0.8931 - val_loss: 0.2146 - val_acc: 0.8901\n",
      "Epoch 18/20\n",
      " - 720s - loss: 0.1974 - acc: 0.8958 - val_loss: 0.2111 - val_acc: 0.8906\n",
      "Epoch 19/20\n",
      " - 722s - loss: 0.1902 - acc: 0.8980 - val_loss: 0.2151 - val_acc: 0.8899\n",
      "Epoch 20/20\n",
      " - 698s - loss: 0.1838 - acc: 0.9001 - val_loss: 0.1878 - val_acc: 0.8991\n"
     ]
    }
   ],
   "source": [
    "history = model.fit(\n",
    "    [encoder_input, decoder_input],\n",
    "    decoder_target,\n",
    "    batch_size=BATCH_SIZE,\n",
    "    epochs=EPOCHS,\n",
    "    validation_split=VAL_SPLIT,\n",
    "    verbose=2,\n",
    "    callbacks=[History()],\n",
    ")"
   ]
  },
  {
   "cell_type": "code",
   "execution_count": 7,
   "metadata": {},
   "outputs": [
    {
     "data": {
      "image/png": "[encoded data removed]",
      "text/plain": [
       "<matplotlib.figure.Figure at 0x1d81854f9b0>"
      ]
     },
     "metadata": {},
     "output_type": "display_data"
    }
   ],
   "source": [
    "fig, axes = plt.subplots(2, 1, sharex=True, figsize=(15, 10))\n",
    "\n",
    "for ax, value in zip(axes, (\"acc\", \"loss\")):\n",
    "    ax.plot(history.history[value], 'o-', ms=3, label=\"training\")\n",
    "    ax.plot(history.history[f\"val_{value}\"], 'o-', ms=3, label=\"validation\")\n",
    "    ax.set_title(value)\n",
    "    ax.legend()\n",
    "\n",
    "ax.xaxis.set_major_locator(MaxNLocator(integer=True))\n",
    "ax.set_xlabel(\"epoch\");"
   ]
  },
  {
   "cell_type": "code",
   "execution_count": 8,
   "metadata": {},
   "outputs": [
    {
     "name": "stderr",
     "output_type": "stream",
     "text": [
      "c:\\users\\con_jmerilai\\appdata\\local\\continuum\\anaconda3\\lib\\site-packages\\keras\\engine\\network.py:888: UserWarning: Layer decoder_lstm was passed non-serializable keyword arguments: {'initial_state': [<tf.Tensor 'encoder_lstm/while/Exit_2:0' shape=(?, 80) dtype=float32>, <tf.Tensor 'encoder_lstm/while/Exit_3:0' shape=(?, 80) dtype=float32>]}. They will not be included in the serialized model (and thus will be missing at deserialization time).\n",
      "  '. They will not be included '\n"
     ]
    }
   ],
   "source": [
    "model.save(MODEL_PATH)"
   ]
  }
 ],
 "metadata": {
  "kernelspec": {
   "display_name": "Python 3",
   "language": "python",
   "name": "python3"
  },
  "language_info": {
   "codemirror_mode": {
    "name": "ipython",
    "version": 3
   },
   "file_extension": ".py",
   "mimetype": "text/x-python",
   "name": "python",
   "nbconvert_exporter": "python",
   "pygments_lexer": "ipython3",
   "version": "3.6.4"
  }
 },
 "nbformat": 4,
 "nbformat_minor": 2
}
