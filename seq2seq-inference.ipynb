{
 "cells": [
  {
   "cell_type": "code",
   "execution_count": null,
   "metadata": {},
   "outputs": [],
   "source": [
    "from keras.models import Model, load_model\n",
    "from keras.layers import Input\n",
    "from one_hot import *\n",
    "import numpy as np"
   ]
  },
  {
   "cell_type": "code",
   "execution_count": 2,
   "metadata": {},
   "outputs": [],
   "source": [
    "MODEL_PATH = \"sananmuunnin.h5\""
   ]
  },
  {
   "cell_type": "code",
   "execution_count": 3,
   "metadata": {},
   "outputs": [],
   "source": [
    "one_hot_encoder = OneHot()\n",
    "model = load_model(MODEL_PATH)\n",
    "\n",
    "encoder_inputs = model.input[0]\n",
    "encoder_outputs, state_h_enc, state_c_enc = model.layers[4].output\n",
    "encoder_states = [state_h_enc, state_c_enc]\n",
    "encoder_model = Model(encoder_inputs, encoder_states)\n",
    "\n",
    "decoder_inputs = model.input[1]\n",
    "hidden_size = encoder_outputs.shape[-1]\n",
    "decoder_state_input_h = Input(shape=(hidden_size,))\n",
    "decoder_state_input_c = Input(shape=(hidden_size,))\n",
    "decoder_states_inputs = [decoder_state_input_h, decoder_state_input_c]\n",
    "decoder_lstm = model.layers[5]\n",
    "decoder_outputs, state_h_dec, state_c_dec = decoder_lstm(decoder_inputs, initial_state=decoder_states_inputs)\n",
    "decoder_states = [state_h_dec, state_c_dec]\n",
    "decoder_dense = model.layers[6]\n",
    "decoder_outputs = decoder_dense(decoder_outputs)\n",
    "decoder_model = Model(\n",
    "    [decoder_inputs] + decoder_states_inputs,\n",
    "    [decoder_outputs] + decoder_states\n",
    ")"
   ]
  },
  {
   "cell_type": "code",
   "execution_count": 4,
   "metadata": {},
   "outputs": [],
   "source": [
    "def predict(words):\n",
    "    one_hot_encoded = one_hot_encoder.encode(words)[np.newaxis]\n",
    "    state = encoder_model.predict(one_hot_encoded)\n",
    "    \n",
    "    decoder_output = np.zeros((1, 1, N_CHARACTERS))\n",
    "    decoder_output[0, 0, START_TOKEN_INDEX] = 1\n",
    "    output = []\n",
    "    \n",
    "    for i in range(len(words)):\n",
    "        decoder_output, state_h, state_c = decoder_model.predict([decoder_output] + state)\n",
    "        decoded_token_index = decoder_output[0, 0, :].argmax()\n",
    "\n",
    "        if decoded_token_index == END_TOKEN_INDEX:\n",
    "            break\n",
    "\n",
    "        state = [state_h, state_c]\n",
    "        decoder_output = np.zeros((1, 1, N_CHARACTERS))\n",
    "        decoder_output[0, 0, decoded_token_index] = 1\n",
    "        output.append(decoder_output[0, 0, :])\n",
    "\n",
    "    return one_hot_encoder.decode(np.array(output))"
   ]
  },
  {
   "cell_type": "code",
   "execution_count": 20,
   "metadata": {},
   "outputs": [
    {
     "name": "stdout",
     "output_type": "stream",
     "text": [
      "ruskaa pakkasella -> paskaa rukkasella\n",
      "huono vintti -> vieno huntti\n",
      "hellan vanki -> vallan henki\n"
     ]
    }
   ],
   "source": [
    "test_words = [\n",
    "    'ruskaa pakkasella',\n",
    "    'huono vintti',\n",
    "    'hellan vanki',\n",
    "]\n",
    "\n",
    "for words in test_words:\n",
    "    print(words, '->', predict(words))"
   ]
  }
 ],
 "metadata": {
  "kernelspec": {
   "display_name": "Python 3",
   "language": "python",
   "name": "python3"
  },
  "language_info": {
   "codemirror_mode": {
    "name": "ipython",
    "version": 3
   },
   "file_extension": ".py",
   "mimetype": "text/x-python",
   "name": "python",
   "nbconvert_exporter": "python",
   "pygments_lexer": "ipython3",
   "version": "3.6.4"
  }
 },
 "nbformat": 4,
 "nbformat_minor": 2
}
